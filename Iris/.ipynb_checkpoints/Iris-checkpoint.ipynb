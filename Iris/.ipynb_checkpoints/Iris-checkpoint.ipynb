{
 "cells": [
  {
   "cell_type": "code",
   "execution_count": 1,
   "id": "51593c23",
   "metadata": {},
   "outputs": [],
   "source": [
    "from sklearn.datasets import load_iris  # https://scikit-learn.org/stable/auto_examples/datasets/plot_iris_dataset.html\n",
    "iris = load_iris()"
   ]
  },
  {
   "cell_type": "code",
   "execution_count": 2,
   "id": "8e1ba29e",
   "metadata": {},
   "outputs": [],
   "source": [
    "# X: inputs\n",
    "# y: target\n",
    "# => f(X) = y\n",
    "\n",
    "X = iris.data\n",
    "y = iris.target\n",
    "\n",
    "feature_names = iris.feature_names\n",
    "target_names = iris.target_names"
   ]
  },
  {
   "cell_type": "code",
   "execution_count": 3,
   "id": "9408b9e0",
   "metadata": {},
   "outputs": [
    {
     "name": "stdout",
     "output_type": "stream",
     "text": [
      "(120, 4)\n",
      "(30, 4)\n",
      "(120,)\n",
      "(30,)\n"
     ]
    }
   ],
   "source": [
    "from sklearn.model_selection import train_test_split\n",
    "X_train, X_test, y_train, y_test = train_test_split(X, y, test_size=0.2)\n",
    "# test_size is the amount of data to be tested\n",
    "# the less the size, the higher the accuracy, but could be a misleading accuracy since the sample is so small\n",
    "# the more data we have, the more we can train the models\n",
    "\n",
    "print(X_train.shape)\n",
    "print(X_test.shape)\n",
    "print(y_train.shape)\n",
    "print(y_test.shape)"
   ]
  },
  {
   "cell_type": "code",
   "execution_count": 4,
   "id": "a51b4d5e",
   "metadata": {},
   "outputs": [],
   "source": [
    "# create a model using an algorithm that divides the data\n",
    "from sklearn.neighbors import KNeighborsClassifier  # could be another algorithm\n",
    "knn = KNeighborsClassifier(n_neighbors=3)  # because we know there's 3 types of flowers, but could be another number\n",
    "knn.fit(X_train, y_train)  # use the algorithm\n",
    "y_pred = knn.predict(X_test)"
   ]
  },
  {
   "cell_type": "code",
   "execution_count": 5,
   "id": "467a0678",
   "metadata": {},
   "outputs": [
    {
     "name": "stdout",
     "output_type": "stream",
     "text": [
      "0.9333333333333333\n"
     ]
    }
   ],
   "source": [
    "from sklearn import metrics\n",
    "print(metrics.accuracy_score(y_test, y_pred))"
   ]
  },
  {
   "cell_type": "code",
   "execution_count": 6,
   "id": "5d0956fc",
   "metadata": {},
   "outputs": [
    {
     "name": "stdout",
     "output_type": "stream",
     "text": [
      "predicitons:  ['versicolor', 'virginica']\n"
     ]
    }
   ],
   "source": [
    "sample = [[3,5,4,2], [2,3,5,4]]\n",
    "predictions = knn.predict(sample)\n",
    "pred_species = [iris.target_names[p] for p in predictions]\n",
    "print('predicitons: ', pred_species)"
   ]
  },
  {
   "cell_type": "code",
   "execution_count": 7,
   "id": "c991f9e0",
   "metadata": {},
   "outputs": [
    {
     "data": {
      "text/plain": [
       "['mlbrain.joblib']"
      ]
     },
     "execution_count": 7,
     "metadata": {},
     "output_type": "execute_result"
    }
   ],
   "source": [
    "from joblib import dump, load\n",
    "dump(knn, 'mlbrain.joblib')  # save the model for future use, because train it everytime could be too time/resource consuming\n",
    "# in case of any update on the model, it can be dumped again"
   ]
  },
  {
   "cell_type": "code",
   "execution_count": 8,
   "id": "cc4d4789",
   "metadata": {},
   "outputs": [
    {
     "name": "stdout",
     "output_type": "stream",
     "text": [
      "predicitons:  ['versicolor', 'virginica']\n"
     ]
    }
   ],
   "source": [
    "model = load('mlbrain.joblib')  # load the saved model\n",
    "model.predict(X_test)  # use the saved model\n",
    "\n",
    "sample = [[3,5,4,2], [2,3,5,4]]\n",
    "predictions = model.predict(sample)  # use the saved model\n",
    "pred_species = [iris.target_names[p] for p in predictions]\n",
    "print('predicitons: ', pred_species)"
   ]
  },
  {
   "cell_type": "code",
   "execution_count": null,
   "id": "b0aeffa8",
   "metadata": {},
   "outputs": [],
   "source": []
  }
 ],
 "metadata": {
  "kernelspec": {
   "display_name": "Python 3 (ipykernel)",
   "language": "python",
   "name": "python3"
  },
  "language_info": {
   "codemirror_mode": {
    "name": "ipython",
    "version": 3
   },
   "file_extension": ".py",
   "mimetype": "text/x-python",
   "name": "python",
   "nbconvert_exporter": "python",
   "pygments_lexer": "ipython3",
   "version": "3.10.9"
  }
 },
 "nbformat": 4,
 "nbformat_minor": 5
}
